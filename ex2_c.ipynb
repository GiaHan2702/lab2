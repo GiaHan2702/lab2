{
  "nbformat": 4,
  "nbformat_minor": 0,
  "metadata": {
    "colab": {
      "provenance": [],
      "authorship_tag": "ABX9TyNn6tWIXTB0KQyFt5F+rVOU",
      "include_colab_link": true
    },
    "kernelspec": {
      "name": "python3",
      "display_name": "Python 3"
    },
    "language_info": {
      "name": "python"
    }
  },
  "cells": [
    {
      "cell_type": "markdown",
      "metadata": {
        "id": "view-in-github",
        "colab_type": "text"
      },
      "source": [
        "<a href=\"https://colab.research.google.com/github/GiaHan2702/lab2/blob/main/ex2_c.ipynb\" target=\"_parent\"><img src=\"https://colab.research.google.com/assets/colab-badge.svg\" alt=\"Open In Colab\"/></a>"
      ]
    },
    {
      "cell_type": "markdown",
      "source": [
        "python code to verify part a"
      ],
      "metadata": {
        "id": "i1bp5I7dr0mG"
      }
    },
    {
      "cell_type": "code",
      "execution_count": 1,
      "metadata": {
        "id": "smTOyyGSrsAr"
      },
      "outputs": [],
      "source": [
        "import numpy as np\n",
        "import statistics as st"
      ]
    },
    {
      "cell_type": "code",
      "source": [
        "features = np.array([[4.9,     3], \n",
        "                    [4.7, 3.2], \n",
        "                    [4.6, 3.1], \n",
        "                    [5,  3.6], \n",
        "                    [5.4, 3.9],\n",
        "                    [4.6, 3.4], \n",
        "                    [6.4, 3.2], \n",
        "                    [6.9,  3.1], \n",
        "                    [5.5, 2.3],  \n",
        "                    [6.5, 2.8],         \n",
        "                    [5.7, 2.8], \n",
        "                    [6.3, 3.3], \n",
        "                    [5.6,  2.2], \n",
        "                    [5.1, 1.5],\n",
        "                    [5.6, 1.4], \n",
        "                    [5.9, 2.1], \n",
        "                    [5.3,  1.8],   \n",
        "                    [5.7, 1.9]\n",
        "                     ])\n",
        "x0l=np.array([4.9, 4.7, 4.6, 5, 5.4,4.6])\n",
        "x1l=np.array([6.4, 6.9, 5.5, 6.5, 5.7, 6.3])\n",
        "x2l=np.array([5.6, 5.1, 5.6, 5.9, 5.3, 5.7])\n",
        "\n",
        "x0w=np.array([3, 3.2, 3.1, 3.6, 3.9, 3.4])\n",
        "x1w=np.array([3.2, 3.1, 2.3, 2.8, 2.8, 3.3])\n",
        "x2w=np.array([2.2, 1.5, 1.4, 2.1, 1.8, 1.9])\n",
        "\n",
        "labels = np.array([[0],\n",
        "                   [0],\n",
        "                   [0],\n",
        "                   [0],\n",
        "                   [0],\n",
        "                   [0],\n",
        "                   [1],\n",
        "                   [1],\n",
        "                   [1],\n",
        "                   [1],\n",
        "                   [1],\n",
        "                   [1],\n",
        "                   [2],\n",
        "                   [2],\n",
        "                   [2],\n",
        "                   [2],\n",
        "                   [2],\n",
        "                   [2],\n",
        "                   ])\n",
        "\n",
        "X = np.array([[5.2, 2.4]])\n",
        "\n",
        "print(features)\n",
        "print(labels)\n",
        "print(x0l)\n",
        "print(X)"
      ],
      "metadata": {
        "colab": {
          "base_uri": "https://localhost:8080/"
        },
        "id": "Xl6ZFy4hr5l5",
        "outputId": "9ae0b610-b21e-448a-b692-658467b87f11"
      },
      "execution_count": 7,
      "outputs": [
        {
          "output_type": "stream",
          "name": "stdout",
          "text": [
            "[[4.9 3. ]\n",
            " [4.7 3.2]\n",
            " [4.6 3.1]\n",
            " [5.  3.6]\n",
            " [5.4 3.9]\n",
            " [4.6 3.4]\n",
            " [6.4 3.2]\n",
            " [6.9 3.1]\n",
            " [5.5 2.3]\n",
            " [6.5 2.8]\n",
            " [5.7 2.8]\n",
            " [6.3 3.3]\n",
            " [5.6 2.2]\n",
            " [5.1 1.5]\n",
            " [5.6 1.4]\n",
            " [5.9 2.1]\n",
            " [5.3 1.8]\n",
            " [5.7 1.9]]\n",
            "[[0]\n",
            " [0]\n",
            " [0]\n",
            " [0]\n",
            " [0]\n",
            " [0]\n",
            " [1]\n",
            " [1]\n",
            " [1]\n",
            " [1]\n",
            " [1]\n",
            " [1]\n",
            " [2]\n",
            " [2]\n",
            " [2]\n",
            " [2]\n",
            " [2]\n",
            " [2]]\n",
            "[4.9 4.7 4.6 5.  5.4 4.6]\n",
            "[[5.2 2.4]]\n"
          ]
        }
      ]
    },
    {
      "cell_type": "code",
      "source": [
        "print(x0l)\n",
        "print(x1l)\n",
        "print(x2l)\n",
        "print(x0w)\n",
        "print(x1w)\n",
        "print(x2w)"
      ],
      "metadata": {
        "colab": {
          "base_uri": "https://localhost:8080/"
        },
        "id": "zamR9E4Wr5r5",
        "outputId": "c12303c8-e397-41df-b699-b6e8dacd800a"
      },
      "execution_count": 10,
      "outputs": [
        {
          "output_type": "stream",
          "name": "stdout",
          "text": [
            "[4.9 4.7 4.6 5.  5.4 4.6]\n",
            "[6.4 6.9 5.5 6.5 5.7 6.3]\n",
            "[5.6 5.1 5.6 5.9 5.3 5.7]\n",
            "[3.  3.2 3.1 3.6 3.9 3.4]\n",
            "[3.2 3.1 2.3 2.8 2.8 3.3]\n",
            "[2.2 1.5 1.4 2.1 1.8 1.9]\n"
          ]
        }
      ]
    },
    {
      "cell_type": "code",
      "source": [
        "#Calculate the mean length 0\n",
        "mean_l0 = np.mean(x0l)\n",
        "\n",
        "#Calculate the mean length 1\n",
        "mean_l1 = np.mean(x1l)\n",
        "\n",
        "#Calculate the mean length x2\n",
        "mean_l2 = np.mean(x2l)\n",
        "\n",
        "#Calculate the mean width 0\n",
        "mean_w0 = np.mean(x0w)\n",
        "\n",
        "#Calculate the mean width 1\n",
        "mean_w1 = np.mean(x1w)\n",
        "\n",
        "#Calculate the mean width x2\n",
        "mean_w2 = np.mean(x2w)\n",
        "\n",
        "#length\n",
        "print(\"Mean of length x0: \", mean_l0)\n",
        "print(\"\\n\")\n",
        "print(\"Mean of length x1: \", mean_l1)\n",
        "print(\"\\n\")\n",
        "print(\"Mean of length x2: \", mean_l2)\n",
        "print(\"\\n\")\n",
        "#width\n",
        "print(\"Mean of width x0: \", mean_w0)\n",
        "print(\"\\n\")\n",
        "print(\"Mean of width x1: \", mean_w1)\n",
        "print(\"\\n\")\n",
        "print(\"Mean of width x2: \", mean_w2)\n",
        "print(\"\\n\")\n",
        "\n"
      ],
      "metadata": {
        "colab": {
          "base_uri": "https://localhost:8080/"
        },
        "id": "eR6cuo9dr5uM",
        "outputId": "6e1c1393-c3bf-454d-94f0-3a6f9efc42b2"
      },
      "execution_count": 13,
      "outputs": [
        {
          "output_type": "stream",
          "name": "stdout",
          "text": [
            "Mean of length x0:  4.866666666666667\n",
            "\n",
            "\n",
            "Mean of length x1:  6.216666666666666\n",
            "\n",
            "\n",
            "Mean of length x2:  5.533333333333332\n",
            "\n",
            "\n",
            "Mean of width x0:  3.3666666666666667\n",
            "\n",
            "\n",
            "Mean of width x1:  2.9166666666666674\n",
            "\n",
            "\n",
            "Mean of width x2:  1.8166666666666667\n",
            "\n",
            "\n"
          ]
        }
      ]
    },
    {
      "cell_type": "code",
      "source": [
        "import math"
      ],
      "metadata": {
        "id": "wiJftpMtr5wi"
      },
      "execution_count": 12,
      "outputs": []
    },
    {
      "cell_type": "code",
      "source": [
        "distance1= math.sqrt(((X[:,0].copy())-mean_l0)**2 + (X[:,1]-mean_w0)**2)\n",
        "print(distance1)\n",
        "distance2= math.sqrt(((X[:,0].copy())-mean_l1)**2 + (X[:,1]-mean_w1)**2)\n",
        "print(distance2)\n",
        "distance3= math.sqrt(((X[:,0].copy())-mean_l2)**2 + (X[:,1]-mean_w2)**2)\n",
        "print(distance3)"
      ],
      "metadata": {
        "colab": {
          "base_uri": "https://localhost:8080/"
        },
        "id": "XnR_j7PJr5y9",
        "outputId": "7625c0dc-3739-4bbe-a4df-1fc07b50b9aa"
      },
      "execution_count": 16,
      "outputs": [
        {
          "output_type": "stream",
          "name": "stdout",
          "text": [
            "1.0225241100118645\n",
            "1.140419026303733\n",
            "0.6718548123582118\n"
          ]
        }
      ]
    },
    {
      "cell_type": "code",
      "source": [
        "# Classification\n",
        "\n",
        "min= distance1\n",
        "if (distance2<min and distance3 > min):\n",
        "  min=distance2\n",
        "  print(\"Conclusion: X belongs to Label 1\")\n",
        "if (distance3<min):\n",
        "  max= distance3\n",
        "  print(\"Conclusion: X belongs to Label 2\")\n",
        "else:\n",
        "  print(\"Conclusion: X belongs to Label 0\")"
      ],
      "metadata": {
        "colab": {
          "base_uri": "https://localhost:8080/"
        },
        "id": "jOGYcakMr51t",
        "outputId": "52471922-4fd1-4c15-e0ea-91b293d5bc02"
      },
      "execution_count": 18,
      "outputs": [
        {
          "output_type": "stream",
          "name": "stdout",
          "text": [
            "Conclusion: X belongs to Label 2\n"
          ]
        }
      ]
    }
  ]
}