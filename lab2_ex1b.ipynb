{
  "nbformat": 4,
  "nbformat_minor": 0,
  "metadata": {
    "colab": {
      "provenance": [],
      "toc_visible": true,
      "authorship_tag": "ABX9TyNp1dIO8tuyNN7TXE66sHmY",
      "include_colab_link": true
    },
    "kernelspec": {
      "name": "python3",
      "display_name": "Python 3"
    },
    "language_info": {
      "name": "python"
    }
  },
  "cells": [
    {
      "cell_type": "markdown",
      "metadata": {
        "id": "view-in-github",
        "colab_type": "text"
      },
      "source": [
        "<a href=\"https://colab.research.google.com/github/GiaHan2702/lab2/blob/main/lab2_ex1b.ipynb\" target=\"_parent\"><img src=\"https://colab.research.google.com/assets/colab-badge.svg\" alt=\"Open In Colab\"/></a>"
      ]
    },
    {
      "cell_type": "markdown",
      "source": [
        "lab2_ex1b."
      ],
      "metadata": {
        "id": "QAbxQmiQvR-v"
      }
    },
    {
      "cell_type": "code",
      "source": [
        "import numpy as np\n",
        "import statistics as st"
      ],
      "metadata": {
        "id": "CwMwiMoxvTcb"
      },
      "execution_count": 1,
      "outputs": []
    },
    {
      "cell_type": "code",
      "execution_count": 2,
      "metadata": {
        "colab": {
          "base_uri": "https://localhost:8080/"
        },
        "id": "tCFikb1lvHaP",
        "outputId": "63da8db1-aefd-4c32-a790-c90962c4e2d1"
      },
      "outputs": [
        {
          "output_type": "stream",
          "name": "stdout",
          "text": [
            "[[ 7.24  7.51 21.17]\n",
            " [16.41  8.29 19.31]\n",
            " [17.04  3.78 22.11]\n",
            " [20.67  0.76  3.03]\n",
            " [20.31 16.22 15.85]\n",
            " [ 1.49 16.1   0.13]\n",
            " [ 7.85 18.27 14.85]\n",
            " [15.5  14.14 14.66]]\n",
            "[[1]\n",
            " [1]\n",
            " [1]\n",
            " [1]\n",
            " [2]\n",
            " [2]\n",
            " [2]\n",
            " [2]]\n"
          ]
        }
      ],
      "source": [
        "features = np.array([[7.24, 7.51, 21.17], \n",
        "                    [16.41, 8.29, 19.31], \n",
        "                    [17.04, 3.78, 22.11], \n",
        "                    [20.67, 0.76, 3.03], \n",
        "                    [20.31, 16.22, 15.85], \n",
        "                    [1.49, 16.1, 0.13],\n",
        "                    [7.85, 18.27, 14.85],\n",
        "                    [15.5, 14.14, 14.66]])\n",
        "\n",
        "labels = np.array([[1],\n",
        "                   [1],\n",
        "                   [1],\n",
        "                   [1],\n",
        "                   [2],\n",
        "                   [2],\n",
        "                   [2],\n",
        "                   [2]])\n",
        "\n",
        "X = np.array([[14.92, 10.97, 8.78]])\n",
        "\n",
        "print(features)\n",
        "print(labels)"
      ]
    },
    {
      "cell_type": "code",
      "source": [
        "print(features[:,0])"
      ],
      "metadata": {
        "colab": {
          "base_uri": "https://localhost:8080/"
        },
        "id": "g1EGsWg-vdI2",
        "outputId": "21b8e42f-49c9-44c3-8068-56fa5e71833d"
      },
      "execution_count": 3,
      "outputs": [
        {
          "output_type": "stream",
          "name": "stdout",
          "text": [
            "[ 7.24 16.41 17.04 20.67 20.31  1.49  7.85 15.5 ]\n"
          ]
        }
      ]
    },
    {
      "cell_type": "code",
      "source": [
        "# Standardization \n",
        "\n",
        "#Calculate the mean and variance of feature x1\n",
        "mean_x1 = np.mean(features[:, 0])\n",
        "var_x1 = np.var(features[:, 0])\n",
        "\n",
        "\n",
        "#Calculate the mean and variance of feature x2\n",
        "mean_x2 = np.mean(features[:, 1])\n",
        "var_x2 = np.var(features[:, 1])\n",
        "\n",
        "#Calculate the mean and variance of feature x3\n",
        "mean_x3 = np.mean(features[:, 2])\n",
        "var_x3 = np.var(features[:, 2])\n",
        "\n",
        "\n",
        "print(\"Mean of feature x1: \", mean_x1)\n",
        "print(\"Variance of feature x1: \", var_x1)\n",
        "print(\"\\n\")\n",
        "print(\"Mean of feature x2: \", mean_x2)\n",
        "print(\"Variance of feature x2: \", var_x2)\n",
        "print(\"\\n\")\n",
        "print(\"Mean of feature x3: \", mean_x3)\n",
        "print(\"Variance of feature x3: \", var_x3)\n"
      ],
      "metadata": {
        "colab": {
          "base_uri": "https://localhost:8080/"
        },
        "id": "9oETPL1Rvfx0",
        "outputId": "13b29579-f61a-4055-b608-cbcea89ababd"
      },
      "execution_count": 6,
      "outputs": [
        {
          "output_type": "stream",
          "name": "stdout",
          "text": [
            "Mean of feature x1:  13.313749999999999\n",
            "Variance of feature x1:  42.2321734375\n",
            "\n",
            "\n",
            "Mean of feature x2:  10.63375\n",
            "Variance of feature x2:  36.4259984375\n",
            "\n",
            "\n",
            "Mean of feature x3:  13.88875\n",
            "Variance of feature x3:  57.8220609375\n"
          ]
        }
      ]
    },
    {
      "cell_type": "code",
      "source": [
        "# Standardize the given features\n",
        "\n",
        "stand_features = features.copy()\n",
        "stand_features[:, 0] = (features[:, 0].copy() - mean_x1) / np.sqrt(var_x1)\n",
        "\n",
        "stand_features[:, 1] = (features[:, 1].copy() - mean_x2) / np.sqrt(var_x2)\n",
        "\n",
        "stand_features[:, 2] = (features[:, 2].copy() - mean_x3) / np.sqrt(var_x3)\n",
        "\n",
        "print(stand_features)\n"
      ],
      "metadata": {
        "colab": {
          "base_uri": "https://localhost:8080/"
        },
        "id": "LClzNEZzvgim",
        "outputId": "c7d77c6a-74f3-4511-e269-2a106d4b4282"
      },
      "execution_count": 7,
      "outputs": [
        {
          "output_type": "stream",
          "name": "stdout",
          "text": [
            "[[-0.93462027 -0.51757172  0.95754493]\n",
            " [ 0.47644668 -0.38833412  0.71293946]\n",
            " [ 0.57339021 -1.13559253  1.08116274]\n",
            " [ 1.1319696  -1.63597399 -1.42801593]\n",
            " [ 1.0765733   0.92558144  0.25792068]\n",
            " [-1.81942234  0.90569873 -1.80939004]\n",
            " [-0.84075431  1.26524435  0.12641237]\n",
            " [ 0.33641713  0.58094785  0.10142579]]\n"
          ]
        }
      ]
    },
    {
      "cell_type": "code",
      "source": [
        "# Standardize the features of X\n",
        "stand_X = X.copy()\n",
        "stand_X[:, 0] = (X[:, 0].copy() - mean_x1) / np.sqrt(var_x1)\n",
        "stand_X[:, 1] = (X[:, 1].copy() - mean_x2) / np.sqrt(var_x2)\n",
        "stand_X[:, 2] = (X[:, 2].copy() - mean_x3) / np.sqrt(var_x3)\n",
        "\n",
        "print(stand_X)"
      ],
      "metadata": {
        "colab": {
          "base_uri": "https://localhost:8080/"
        },
        "id": "fItYUYlPvgvA",
        "outputId": "f8ba99c1-da1b-403f-8204-c8a04a7aa6ea"
      },
      "execution_count": 8,
      "outputs": [
        {
          "output_type": "stream",
          "name": "stdout",
          "text": [
            "[[ 0.24716753  0.055713   -0.67184311]]\n"
          ]
        }
      ]
    },
    {
      "cell_type": "code",
      "source": [
        "# Calculate the features distance from 𝑋 to the data samples\n",
        "d1 = stand_X.copy() - stand_features.copy() \n",
        "d2 = np.sqrt((d1[:, 0].copy()) ** 2  + (d1[:, 1].copy()) ** 2 +(d1[:, 2].copy()) ** 2)\n",
        "\n",
        "print(d1)\n",
        "print(d2)"
      ],
      "metadata": {
        "colab": {
          "base_uri": "https://localhost:8080/"
        },
        "id": "-mA4LRg9vlNB",
        "outputId": "90e600bf-91ca-4950-d015-4c9a6951848f"
      },
      "execution_count": 9,
      "outputs": [
        {
          "output_type": "stream",
          "name": "stdout",
          "text": [
            "[[ 1.1817878   0.57328472 -1.62938803]\n",
            " [-0.22927914  0.44404712 -1.38478257]\n",
            " [-0.32622268  1.19130553 -1.75300585]\n",
            " [-0.88480207  1.69168699  0.75617282]\n",
            " [-0.82940576 -0.86986843 -0.92976379]\n",
            " [ 2.06658987 -0.84998573  1.13754693]\n",
            " [ 1.08792185 -1.20953135 -0.79825548]\n",
            " [-0.0892496  -0.52523484 -0.7732689 ]]\n",
            "[2.09288871 1.47219888 2.14444856 2.05340617 1.51955445 2.5074454\n",
            " 1.81211253 0.93903244]\n"
          ]
        }
      ]
    },
    {
      "cell_type": "code",
      "source": [
        "# Classification\n",
        "# Choosing k for classification\n",
        "k = 3\n",
        "min_d = d2.argsort()[:k]\n",
        "\n",
        "classify = labels[min_d] #extract the corresponding labels\n",
        "print(classify)\n",
        "\n",
        "# Find the mode label\n",
        "print(\"Conclusion: X belongs to Label \", st.mode(classify[:,0]))"
      ],
      "metadata": {
        "colab": {
          "base_uri": "https://localhost:8080/"
        },
        "id": "uFDohZDQvmoX",
        "outputId": "6eae5664-88e4-441b-bf98-d934260c1bcb"
      },
      "execution_count": 10,
      "outputs": [
        {
          "output_type": "stream",
          "name": "stdout",
          "text": [
            "[[2]\n",
            " [1]\n",
            " [2]]\n",
            "Conclusion: X belongs to Label  2\n"
          ]
        }
      ]
    }
  ]
}