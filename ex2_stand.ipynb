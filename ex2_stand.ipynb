{
  "nbformat": 4,
  "nbformat_minor": 0,
  "metadata": {
    "colab": {
      "provenance": [],
      "authorship_tag": "ABX9TyM8jlWnvnCW1CbVp5ATHEQk",
      "include_colab_link": true
    },
    "kernelspec": {
      "name": "python3",
      "display_name": "Python 3"
    },
    "language_info": {
      "name": "python"
    }
  },
  "cells": [
    {
      "cell_type": "markdown",
      "metadata": {
        "id": "view-in-github",
        "colab_type": "text"
      },
      "source": [
        "<a href=\"https://colab.research.google.com/github/GiaHan2702/lab2/blob/main/ex2_stand.ipynb\" target=\"_parent\"><img src=\"https://colab.research.google.com/assets/colab-badge.svg\" alt=\"Open In Colab\"/></a>"
      ]
    },
    {
      "cell_type": "code",
      "execution_count": 19,
      "metadata": {
        "id": "eU4841aUWjlQ"
      },
      "outputs": [],
      "source": [
        "import numpy as np\n",
        "import statistics as st"
      ]
    },
    {
      "cell_type": "code",
      "source": [
        "features = np.array([[4.9,     3], \n",
        "                    [4.7, 3.2], \n",
        "                    [4.6, 3.1], \n",
        "                    [5,  3.6], \n",
        "                    [5.4, 3.9],\n",
        "                    [4.6, 3.4], \n",
        "                    [6.4, 3.2], \n",
        "                    [6.9,  3.1], \n",
        "                    [5.5, 2.3],  \n",
        "                    [6.5, 2.8],         \n",
        "                    [5.7, 2.8], \n",
        "                    [6.3, 3.3], \n",
        "                    [5.6,  2.2], \n",
        "                    [5.1, 1.5],\n",
        "                    [5.6, 1.4], \n",
        "                    [5.9, 2.1], \n",
        "                    [5.3,  1.8],   \n",
        "                    [5.7, 1.9]\n",
        "                     ])\n",
        "\n",
        "labels = np.array([[0],\n",
        "                   [0],\n",
        "                   [0],\n",
        "                   [0],\n",
        "                   [0],\n",
        "                   [0],\n",
        "                   [1],\n",
        "                   [1],\n",
        "                   [1],\n",
        "                   [1],\n",
        "                   [1],\n",
        "                   [1],\n",
        "                   [2],\n",
        "                   [2],\n",
        "                   [2],\n",
        "                   [2],\n",
        "                   [2],\n",
        "                   [2],\n",
        "                   ])\n",
        "\n",
        "X = np.array([[5.2, 2.4]])\n",
        "\n",
        "print(features)\n",
        "print(labels)"
      ],
      "metadata": {
        "colab": {
          "base_uri": "https://localhost:8080/"
        },
        "id": "TRU9rd-eWr_E",
        "outputId": "7b9e00a2-63ce-4753-8135-2f194e38a85d"
      },
      "execution_count": 24,
      "outputs": [
        {
          "output_type": "stream",
          "name": "stdout",
          "text": [
            "[[4.9 3. ]\n",
            " [4.7 3.2]\n",
            " [4.6 3.1]\n",
            " [5.  3.6]\n",
            " [5.4 3.9]\n",
            " [4.6 3.4]\n",
            " [6.4 3.2]\n",
            " [6.9 3.1]\n",
            " [5.5 2.3]\n",
            " [6.5 2.8]\n",
            " [5.7 2.8]\n",
            " [6.3 3.3]\n",
            " [5.6 2.2]\n",
            " [5.1 1.5]\n",
            " [5.6 1.4]\n",
            " [5.9 2.1]\n",
            " [5.3 1.8]\n",
            " [5.7 1.9]]\n",
            "[[0]\n",
            " [0]\n",
            " [0]\n",
            " [0]\n",
            " [0]\n",
            " [0]\n",
            " [1]\n",
            " [1]\n",
            " [1]\n",
            " [1]\n",
            " [1]\n",
            " [1]\n",
            " [2]\n",
            " [2]\n",
            " [2]\n",
            " [2]\n",
            " [2]\n",
            " [2]]\n"
          ]
        }
      ]
    },
    {
      "cell_type": "code",
      "source": [
        "print(features[:,0])\n",
        "print(features[:,1])"
      ],
      "metadata": {
        "colab": {
          "base_uri": "https://localhost:8080/"
        },
        "id": "Rn1C36CFWsBd",
        "outputId": "9c986335-732d-498f-c5f1-3763b023625d"
      },
      "execution_count": 25,
      "outputs": [
        {
          "output_type": "stream",
          "name": "stdout",
          "text": [
            "[4.9 4.7 4.6 5.  5.4 4.6 6.4 6.9 5.5 6.5 5.7 6.3 5.6 5.1 5.6 5.9 5.3 5.7]\n",
            "[3.  3.2 3.1 3.6 3.9 3.4 3.2 3.1 2.3 2.8 2.8 3.3 2.2 1.5 1.4 2.1 1.8 1.9]\n"
          ]
        }
      ]
    },
    {
      "cell_type": "code",
      "source": [
        "# Standardization \n",
        "\n",
        "#Calculate the mean and variance of feature x1\n",
        "mean_x1 = np.mean(features[:, 0])\n",
        "var_x1 = np.var(features[:, 0])\n",
        "\n",
        "\n",
        "#Calculate the mean and variance of feature x2\n",
        "mean_x2 = np.mean(features[:, 1])\n",
        "var_x2 = np.var(features[:, 1])\n",
        "\n",
        "print(\"Mean of feature x1: \", mean_x1)\n",
        "print(\"Variance of feature x1: \", var_x1)\n",
        "print(\"\\n\")\n",
        "print(\"Mean of feature x2: \", mean_x2)\n",
        "print(\"Variance of feature x2: \", var_x2)\n",
        "print(\"\\n\")\n"
      ],
      "metadata": {
        "colab": {
          "base_uri": "https://localhost:8080/"
        },
        "id": "oTYoM1-nWsC0",
        "outputId": "bbd370b7-bbdf-4288-c614-2e7c5b13cd1c"
      },
      "execution_count": 26,
      "outputs": [
        {
          "output_type": "stream",
          "name": "stdout",
          "text": [
            "Mean of feature x1:  5.538888888888889\n",
            "Variance of feature x1:  0.4290432098765434\n",
            "\n",
            "\n",
            "Mean of feature x2:  2.7\n",
            "Variance of feature x2:  0.5211111111111112\n",
            "\n",
            "\n"
          ]
        }
      ]
    },
    {
      "cell_type": "code",
      "source": [
        "# Standardize the given features\n",
        "\n",
        "stand_features = features.copy()\n",
        "stand_features[:, 0] = (features[:, 0].copy() - mean_x1) / np.sqrt(var_x1)\n",
        "\n",
        "stand_features[:, 1] = (features[:, 1].copy() - mean_x2) / np.sqrt(var_x2)\n",
        "\n",
        "print(stand_features)"
      ],
      "metadata": {
        "colab": {
          "base_uri": "https://localhost:8080/"
        },
        "id": "W2Yr1RSpWsEN",
        "outputId": "042be2ae-e735-478b-9ae8-bcffaaf0ead1"
      },
      "execution_count": 27,
      "outputs": [
        {
          "output_type": "stream",
          "name": "stdout",
          "text": [
            "[[-0.97538218  0.41558139]\n",
            " [-1.28071922  0.69263564]\n",
            " [-1.43338773  0.55410852]\n",
            " [-0.82271367  1.24674416]\n",
            " [-0.21203961  1.66232555]\n",
            " [-1.43338773  0.9696899 ]\n",
            " [ 1.31464555  0.69263564]\n",
            " [ 2.07798813  0.55410852]\n",
            " [-0.05937109 -0.55410852]\n",
            " [ 1.46731407  0.13852713]\n",
            " [ 0.24596594  0.13852713]\n",
            " [ 1.16197704  0.83116277]\n",
            " [ 0.09329743 -0.69263564]\n",
            " [-0.67004515 -1.66232555]\n",
            " [ 0.09329743 -1.80085268]\n",
            " [ 0.55130297 -0.83116277]\n",
            " [-0.36470812 -1.24674416]\n",
            " [ 0.24596594 -1.10821703]]\n"
          ]
        }
      ]
    },
    {
      "cell_type": "code",
      "source": [
        "# Standardize the features of X\n",
        "stand_X = X.copy()\n",
        "stand_X[:, 0] = (X[:, 0].copy() - mean_x1) / np.sqrt(var_x1)\n",
        "stand_X[:, 1] = (X[:, 1].copy() - mean_x2) / np.sqrt(var_x2)\n",
        "\n",
        "print(stand_X)"
      ],
      "metadata": {
        "colab": {
          "base_uri": "https://localhost:8080/"
        },
        "id": "dvFCdSagW081",
        "outputId": "7bb4a893-7437-4bce-8b2b-3042a76ab851"
      },
      "execution_count": 28,
      "outputs": [
        {
          "output_type": "stream",
          "name": "stdout",
          "text": [
            "[[-0.51737664 -0.41558139]]\n"
          ]
        }
      ]
    },
    {
      "cell_type": "code",
      "source": [
        "# Calculate the features distance from 𝑋 to the data samples\n",
        "d1 = stand_X.copy() - stand_features.copy() \n",
        "d2 = np.sqrt((d1[:, 0].copy()) ** 2  + (d1[:, 1].copy()) ** 2)\n",
        "\n",
        "print(d1)\n",
        "print(d2)"
      ],
      "metadata": {
        "colab": {
          "base_uri": "https://localhost:8080/"
        },
        "id": "33bY1JDJW1Bv",
        "outputId": "8e32f46b-2367-41fc-af0a-b9b15a080112"
      },
      "execution_count": 29,
      "outputs": [
        {
          "output_type": "stream",
          "name": "stdout",
          "text": [
            "[[ 0.45800555 -0.83116277]\n",
            " [ 0.76334258 -1.10821703]\n",
            " [ 0.91601109 -0.9696899 ]\n",
            " [ 0.30533703 -1.66232555]\n",
            " [-0.30533703 -2.07790693]\n",
            " [ 0.91601109 -1.38527129]\n",
            " [-1.83202219 -1.10821703]\n",
            " [-2.59536477 -0.9696899 ]\n",
            " [-0.45800555  0.13852713]\n",
            " [-1.9846907  -0.55410852]\n",
            " [-0.76334258 -0.55410852]\n",
            " [-1.67935367 -1.24674416]\n",
            " [-0.61067406  0.27705426]\n",
            " [ 0.15266852  1.24674416]\n",
            " [-0.61067406  1.38527129]\n",
            " [-1.06867961  0.41558139]\n",
            " [-0.15266852  0.83116277]\n",
            " [-0.76334258  0.69263564]]\n",
            "[0.94899981 1.34567339 1.33393209 1.69013518 2.10022092 1.66073865\n",
            " 2.14113295 2.77059863 0.47849644 2.06059056 0.94325402 2.09155439\n",
            " 0.67058323 1.2560568  1.51390203 1.14664031 0.84506759 1.03074538]\n"
          ]
        }
      ]
    },
    {
      "cell_type": "code",
      "source": [
        "# Classification\n",
        "# Choosing k for classification\n",
        "k = 3\n",
        "min_d = d2.argsort()[:k]\n",
        "\n",
        "classify = labels[min_d] #extract the corresponding labels\n",
        "print(classify)\n",
        "\n",
        "# Find the mode label\n",
        "print(\"Conclusion: X belongs to Label \", st.mode(classify[:,0]))"
      ],
      "metadata": {
        "colab": {
          "base_uri": "https://localhost:8080/"
        },
        "id": "aOXxnTPTW4-6",
        "outputId": "7b2d4489-5c93-457e-d262-5eed02e705dc"
      },
      "execution_count": 30,
      "outputs": [
        {
          "output_type": "stream",
          "name": "stdout",
          "text": [
            "[[1]\n",
            " [2]\n",
            " [2]]\n",
            "Conclusion: X belongs to Label  2\n"
          ]
        }
      ]
    }
  ]
}