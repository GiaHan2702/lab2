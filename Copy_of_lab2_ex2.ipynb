{
  "nbformat": 4,
  "nbformat_minor": 0,
  "metadata": {
    "colab": {
      "provenance": [],
      "authorship_tag": "ABX9TyPERBwIpCPDrVeXpLW1kj/B",
      "include_colab_link": true
    },
    "kernelspec": {
      "name": "python3",
      "display_name": "Python 3"
    },
    "language_info": {
      "name": "python"
    }
  },
  "cells": [
    {
      "cell_type": "markdown",
      "metadata": {
        "id": "view-in-github",
        "colab_type": "text"
      },
      "source": [
        "<a href=\"https://colab.research.google.com/github/GiaHan2702/lab2/blob/main/Copy_of_lab2_ex2.ipynb\" target=\"_parent\"><img src=\"https://colab.research.google.com/assets/colab-badge.svg\" alt=\"Open In Colab\"/></a>"
      ]
    },
    {
      "cell_type": "markdown",
      "source": [
        "Gaussian Naive"
      ],
      "metadata": {
        "id": "SjMScbagwTMs"
      }
    },
    {
      "cell_type": "code",
      "execution_count": null,
      "metadata": {
        "id": "eU4841aUWjlQ"
      },
      "outputs": [],
      "source": [
        "import numpy as np\n",
        "import statistics as st"
      ]
    },
    {
      "cell_type": "code",
      "source": [
        "features = np.array([[4.9,     3], \n",
        "                    [4.7, 3.2], \n",
        "                    [4.6, 3.1], \n",
        "                    [5,  3.6], \n",
        "                    [5.4, 3.9],\n",
        "                    [4.6, 3.4], \n",
        "                    [6.4, 3.2], \n",
        "                    [6.9,  3.1], \n",
        "                    [5.5, 2.3],  \n",
        "                    [6.5, 2.8],         \n",
        "                    [5.7, 2.8], \n",
        "                    [6.3, 3.3], \n",
        "                    [5.6,  2.2], \n",
        "                    [5.1, 1.5],\n",
        "                    [5.6, 1.4], \n",
        "                    [5.9, 2.1], \n",
        "                    [5.3,  1.8],   \n",
        "                    [5.7, 1.9]\n",
        "                     ])\n",
        "x0l=np.array([4.9, 4.7, 4.6, 5, 5.4,4.6])\n",
        "x1l=np.array([6.4, 6.9, 5.5, 6.5, 5.7, 6.3])\n",
        "x2l=np.array([5.6, 5.1, 5.6, 5.9, 5.3, 5.7])\n",
        "\n",
        "x0w=np.array([3, 3.2, 3.1, 3.6, 3.9, 3.4])\n",
        "x1w=np.array([3.2, 3.1, 2.3, 2.8, 2.8, 3.3])\n",
        "x2w=np.array([2.2, 1.5, 1.4, 2.1, 1.8, 1.9])\n",
        "\n",
        "labels = np.array([[0],\n",
        "                   [0],\n",
        "                   [0],\n",
        "                   [0],\n",
        "                   [0],\n",
        "                   [0],\n",
        "                   [1],\n",
        "                   [1],\n",
        "                   [1],\n",
        "                   [1],\n",
        "                   [1],\n",
        "                   [1],\n",
        "                   [2],\n",
        "                   [2],\n",
        "                   [2],\n",
        "                   [2],\n",
        "                   [2],\n",
        "                   [2],\n",
        "                   ])\n",
        "\n",
        "X = np.array([[5.2, 2.4]])\n",
        "\n",
        "print(features)\n",
        "print(labels)\n",
        "print(x0l)\n",
        "print(X)"
      ],
      "metadata": {
        "colab": {
          "base_uri": "https://localhost:8080/"
        },
        "id": "TRU9rd-eWr_E",
        "outputId": "779d58a0-83b6-4435-f904-76a8d45b6693"
      },
      "execution_count": null,
      "outputs": [
        {
          "output_type": "stream",
          "name": "stdout",
          "text": [
            "[[4.9 3. ]\n",
            " [4.7 3.2]\n",
            " [4.6 3.1]\n",
            " [5.  3.6]\n",
            " [5.4 3.9]\n",
            " [4.6 3.4]\n",
            " [6.4 3.2]\n",
            " [6.9 3.1]\n",
            " [5.5 2.3]\n",
            " [6.5 2.8]\n",
            " [5.7 2.8]\n",
            " [6.3 3.3]\n",
            " [5.6 2.2]\n",
            " [5.1 1.5]\n",
            " [5.6 1.4]\n",
            " [5.9 2.1]\n",
            " [5.3 1.8]\n",
            " [5.7 1.9]]\n",
            "[[0]\n",
            " [0]\n",
            " [0]\n",
            " [0]\n",
            " [0]\n",
            " [0]\n",
            " [1]\n",
            " [1]\n",
            " [1]\n",
            " [1]\n",
            " [1]\n",
            " [1]\n",
            " [2]\n",
            " [2]\n",
            " [2]\n",
            " [2]\n",
            " [2]\n",
            " [2]]\n",
            "[4.9 4.7 4.6 5.  5.4 4.6]\n",
            "[[5.2 2.4]]\n"
          ]
        }
      ]
    },
    {
      "cell_type": "code",
      "source": [
        "print(x0l)\n",
        "print(x1l)\n",
        "print(x2l)\n",
        "print(x0w)\n",
        "print(x1w)\n",
        "print(x2w)\n"
      ],
      "metadata": {
        "colab": {
          "base_uri": "https://localhost:8080/"
        },
        "id": "Rn1C36CFWsBd",
        "outputId": "638cbc9f-992b-4dc9-8754-541158544880"
      },
      "execution_count": null,
      "outputs": [
        {
          "output_type": "stream",
          "name": "stdout",
          "text": [
            "[4.9 4.7 4.6 5.  5.4 4.6]\n",
            "[6.4 6.9 5.5 6.5 5.7 6.3]\n",
            "[5.6 5.1 5.6 5.9 5.3 5.7]\n",
            "[3.  3.2 3.1 3.6 3.9 3.4]\n",
            "[3.2 3.1 2.3 2.8 2.8 3.3]\n",
            "[2.2 1.5 1.4 2.1 1.8 1.9]\n"
          ]
        }
      ]
    },
    {
      "cell_type": "code",
      "source": [
        "# Gaussian \n",
        "\n",
        "#Calculate the mean and variance length 0\n",
        "mean_l0 = np.mean(x0l)\n",
        "var_l0 = np.var(x0l)\n",
        "\n",
        "#Calculate the mean and variance length 1\n",
        "mean_l1 = np.mean(x1l)\n",
        "var_l1 = np.var(x1l)\n",
        "\n",
        "#Calculate the mean and variance of length x2\n",
        "mean_l2 = np.mean(x2l)\n",
        "var_l2 = np.var(x2l)\n",
        "\n",
        "#Calculate the mean and variance width 0\n",
        "mean_w0 = np.mean(x0w)\n",
        "var_w0 = np.var(x0w)\n",
        "\n",
        "#Calculate the mean and variance width 1\n",
        "mean_w1 = np.mean(x1w)\n",
        "var_w1 = np.var(x1w)\n",
        "\n",
        "#Calculate the mean and variance of width x2\n",
        "mean_w2 = np.mean(x2w)\n",
        "var_w2 = np.var(x2w)\n",
        "\n",
        "#length\n",
        "print(\"Mean of length x0: \", mean_l0)\n",
        "print(\"Variance of length x0: \", var_l0)\n",
        "print(\"\\n\")\n",
        "print(\"Mean of length x1: \", mean_l1)\n",
        "print(\"Variance of length x1: \", var_l1)\n",
        "print(\"\\n\")\n",
        "print(\"Mean of length x2: \", mean_l2)\n",
        "print(\"Variance of length x2: \", var_l2)\n",
        "print(\"\\n\")\n",
        "#width\n",
        "print(\"Mean of width x0: \", mean_w0)\n",
        "print(\"Variance of width x0: \", var_w0)\n",
        "print(\"\\n\")\n",
        "print(\"Mean of width x1: \", mean_w1)\n",
        "print(\"Variance of width x1: \", var_w1)\n",
        "print(\"\\n\")\n",
        "print(\"Mean of width x2: \", mean_w2)\n",
        "print(\"Variance of width x2: \", var_w2)\n",
        "print(\"\\n\")\n"
      ],
      "metadata": {
        "colab": {
          "base_uri": "https://localhost:8080/"
        },
        "id": "oTYoM1-nWsC0",
        "outputId": "0f3828d2-f5d0-4c86-e2bc-1ea1203f5036"
      },
      "execution_count": null,
      "outputs": [
        {
          "output_type": "stream",
          "name": "stdout",
          "text": [
            "Mean of length x0:  4.866666666666667\n",
            "Variance of length x0:  0.07888888888888902\n",
            "\n",
            "\n",
            "Mean of length x1:  6.216666666666666\n",
            "Variance of length x1:  0.22805555555555565\n",
            "\n",
            "\n",
            "Mean of length x2:  5.533333333333332\n",
            "Variance of length x2:  0.06888888888888899\n",
            "\n",
            "\n",
            "Mean of width x0:  3.3666666666666667\n",
            "Variance of width x0:  0.09555555555555552\n",
            "\n",
            "\n",
            "Mean of width x1:  2.9166666666666674\n",
            "Variance of width x1:  0.11138888888888894\n",
            "\n",
            "\n",
            "Mean of width x2:  1.8166666666666667\n",
            "Variance of width x2:  0.08472222222222225\n",
            "\n",
            "\n"
          ]
        }
      ]
    },
    {
      "cell_type": "code",
      "source": [
        "import math\n"
      ],
      "metadata": {
        "id": "HCUtW43RBmaE"
      },
      "execution_count": null,
      "outputs": []
    },
    {
      "cell_type": "code",
      "source": [
        "#Gaussian disstribution\n",
        "tu0l= math.exp((-(X[:,0].copy()-mean_l0)**2)/(2*var_l0));\n",
        "f0l= tu0l/math.sqrt(2*math.pi*var_l0)\n",
        "tu0w= math.exp((-(X[:,1].copy()-mean_w0)**2)/(2*var_w0));\n",
        "f0w= tu0w/math.sqrt(2*math.pi*var_w0)\n",
        "tu1l= math.exp((-(X[:,0].copy()-mean_l1)**2)/(2*var_l1));\n",
        "f1l= tu1l/math.sqrt(2*math.pi*var_l1)\n",
        "tu1w= math.exp((-(X[:,1].copy()-mean_w1)**2)/(2*var_w1));\n",
        "f1w= tu1w/math.sqrt(2*math.pi*var_w1)\n",
        "tu2l= math.exp((-(X[:,0].copy()-mean_l2)**2)/(2*var_l2));\n",
        "f2l= tu2l/math.sqrt(2*math.pi*var_l2)\n",
        "tu2w= math.exp((-(X[:,1].copy()-mean_w2)**2)/(2*var_w2));\n",
        "f2w= tu2w/math.sqrt(2*math.pi*var_w2)\n",
        "print(\"Gaussian length x0: \", f0l)\n",
        "print(\"Gaussian of width x0: \", f0w)\n",
        "print(\"\\n\")\n",
        "print(\"Gaussian length x1: \", f1l)\n",
        "print(\"Gaussian of width x1: \", f1w)\n",
        "print(\"\\n\")\n",
        "print(\"Gaussian length x2: \", f2l)\n",
        "print(\"Gaussian of width x2: \", f2w)\n",
        "print(\"\\n\")"
      ],
      "metadata": {
        "colab": {
          "base_uri": "https://localhost:8080/"
        },
        "id": "W2Yr1RSpWsEN",
        "outputId": "7d1ad6da-3130-4d40-9910-2261d2dc93b1"
      },
      "execution_count": null,
      "outputs": [
        {
          "output_type": "stream",
          "name": "stdout",
          "text": [
            "Gaussian length x0:  0.7023619270784218\n",
            "Gaussian of width x0:  0.009711449940278253\n",
            "\n",
            "\n",
            "Gaussian length x1:  0.08663993896437762\n",
            "Gaussian of width x1:  0.3606565896070047\n",
            "\n",
            "\n",
            "Gaussian length x2:  0.678575210966582\n",
            "Gaussian of width x2:  0.1839766225878629\n",
            "\n",
            "\n"
          ]
        }
      ]
    },
    {
      "cell_type": "code",
      "source": [
        "P_lw0= f0l*f0w\n",
        "print(\"P(length=5.2, width=2.4 | cat=0)= \", P_lw0)\n",
        "print(\"\\n\")\n",
        "P_lw1= f1l*f1w\n",
        "print(\"P(length=5.2, width=2.4 | cat=1)= \", P_lw1)\n",
        "print(\"\\n\")\n",
        "P_lw2= f2l*f2w\n",
        "print(\"P(length=5.2, width=2.4 | cat=2)\", P_lw2)\n"
      ],
      "metadata": {
        "colab": {
          "base_uri": "https://localhost:8080/"
        },
        "id": "dvFCdSagW081",
        "outputId": "fea5a829-d4ec-484b-d3a8-4fb33a68e19b"
      },
      "execution_count": null,
      "outputs": [
        {
          "output_type": "stream",
          "name": "stdout",
          "text": [
            "P(length=5.2, width=2.4 | cat=0)=  0.006820952694779459\n",
            "\n",
            "\n",
            "P(length=5.2, width=2.4 | cat=1)=  0.031247264910651475\n",
            "\n",
            "\n",
            "P(length=5.2, width=2.4 | cat=2) 0.1248419754854783\n"
          ]
        }
      ]
    },
    {
      "cell_type": "code",
      "source": [
        "P0=P1=P2= 1/3\n"
      ],
      "metadata": {
        "id": "33bY1JDJW1Bv"
      },
      "execution_count": null,
      "outputs": []
    },
    {
      "cell_type": "code",
      "source": [
        "P_lw= P_lw0*P0+ P_lw1*P1+P_lw2*P2\n",
        "print(P_lw)"
      ],
      "metadata": {
        "colab": {
          "base_uri": "https://localhost:8080/"
        },
        "id": "QQTI6QaOF1e9",
        "outputId": "d3d71103-08be-4c49-d7cc-73e10b32cf65"
      },
      "execution_count": null,
      "outputs": [
        {
          "output_type": "stream",
          "name": "stdout",
          "text": [
            "0.05430339769696974\n"
          ]
        }
      ]
    },
    {
      "cell_type": "code",
      "source": [
        "P0_lw= (P_lw0*P0)/P_lw\n",
        "P1_lw= (P_lw1*P1)/P_lw\n",
        "P2_lw= (P_lw2*P2)/P_lw\n",
        "print(\"P(cat=0| length=5.2, width=2.4)= \", P0_lw)\n",
        "print(\"\\n\")\n",
        "print(\"P(cat=1| length=5.2, width=2.4)= \", P1_lw)\n",
        "print(\"\\n\")\n",
        "print(\"P(cat=0| length=5.2, width=2.4)= \", P2_lw)"
      ],
      "metadata": {
        "colab": {
          "base_uri": "https://localhost:8080/"
        },
        "id": "svUxq-v_GGkL",
        "outputId": "14f9e448-eb1a-4a28-c77a-4acc43db43ff"
      },
      "execution_count": null,
      "outputs": [
        {
          "output_type": "stream",
          "name": "stdout",
          "text": [
            "P(cat=0| length=5.2, width=2.4)=  0.04186940402785689\n",
            "\n",
            "\n",
            "P(cat=1| length=5.2, width=2.4)=  0.19180669004065617\n",
            "\n",
            "\n",
            "P(cat=0| length=5.2, width=2.4)=  0.7663239059314869\n"
          ]
        }
      ]
    },
    {
      "cell_type": "code",
      "source": [
        "# Classification\n",
        "\n",
        "max= P0_lw\n",
        "if (P1_lw>max and P2_lw< max):\n",
        "  max=P1_lw\n",
        "  print(\"Conclusion: X belongs to Label 1\")\n",
        "if (P2_lw>max):\n",
        "  max= P2_lw\n",
        "  print(\"Conclusion: X belongs to Label 2\")\n",
        "else:\n",
        "  print(\"Conclusion: X belongs to Label 0\")\n"
      ],
      "metadata": {
        "colab": {
          "base_uri": "https://localhost:8080/"
        },
        "id": "aOXxnTPTW4-6",
        "outputId": "f6066a1a-6613-435b-8d62-85ec4f0346fd"
      },
      "execution_count": null,
      "outputs": [
        {
          "output_type": "stream",
          "name": "stdout",
          "text": [
            "Conclusion: X belongs to Label 2\n"
          ]
        }
      ]
    }
  ]
}