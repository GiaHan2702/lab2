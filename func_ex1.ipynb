{
  "nbformat": 4,
  "nbformat_minor": 0,
  "metadata": {
    "colab": {
      "provenance": [],
      "authorship_tag": "ABX9TyMblqifb88tsija7G4JmfMr",
      "include_colab_link": true
    },
    "kernelspec": {
      "name": "python3",
      "display_name": "Python 3"
    },
    "language_info": {
      "name": "python"
    }
  },
  "cells": [
    {
      "cell_type": "markdown",
      "metadata": {
        "id": "view-in-github",
        "colab_type": "text"
      },
      "source": [
        "<a href=\"https://colab.research.google.com/github/GiaHan2702/lab2/blob/main/func_ex1.ipynb\" target=\"_parent\"><img src=\"https://colab.research.google.com/assets/colab-badge.svg\" alt=\"Open In Colab\"/></a>"
      ]
    },
    {
      "cell_type": "code",
      "execution_count": null,
      "metadata": {
        "id": "2YXJB6tQwA3d"
      },
      "outputs": [],
      "source": [
        "import numpy as np\n",
        "import statistics as st"
      ]
    },
    {
      "cell_type": "code",
      "source": [
        "features = np.array([[7.24, 7.51, 21.17], \n",
        "                    [16.41, 8.29, 19.31], \n",
        "                    [17.04, 3.78, 22.11], \n",
        "                    [20.67, 0.76, 3.03], \n",
        "                    [20.31, 16.22, 15.85], \n",
        "                    [1.49, 16.1, 0.13],\n",
        "                    [7.85, 18.27, 14.85],\n",
        "                    [15.5, 14.14, 14.66]])\n",
        "\n",
        "labels= np.array([[1],\n",
        "                   [1],\n",
        "                   [1],\n",
        "                   [1],\n",
        "                   [2],\n",
        "                   [2],\n",
        "                   [2],\n",
        "                   [2]])\n",
        "\n",
        "X = np.array([[14.92, 10.97, 8.78]])\n",
        "\n",
        "print(features)\n",
        "print(labels)"
      ],
      "metadata": {
        "colab": {
          "base_uri": "https://localhost:8080/"
        },
        "id": "jMXtcoYxwSWz",
        "outputId": "90b2170d-0262-4cd2-81c8-ea61bc255460"
      },
      "execution_count": null,
      "outputs": [
        {
          "output_type": "stream",
          "name": "stdout",
          "text": [
            "[[ 7.24  7.51 21.17]\n",
            " [16.41  8.29 19.31]\n",
            " [17.04  3.78 22.11]\n",
            " [20.67  0.76  3.03]\n",
            " [20.31 16.22 15.85]\n",
            " [ 1.49 16.1   0.13]\n",
            " [ 7.85 18.27 14.85]\n",
            " [15.5  14.14 14.66]]\n",
            "[[1]\n",
            " [1]\n",
            " [1]\n",
            " [1]\n",
            " [2]\n",
            " [2]\n",
            " [2]\n",
            " [2]]\n"
          ]
        }
      ]
    },
    {
      "cell_type": "code",
      "source": [
        "print(features[:,0])\n",
        "print(features[:,1])\n",
        "print(features[:,2])"
      ],
      "metadata": {
        "colab": {
          "base_uri": "https://localhost:8080/"
        },
        "id": "V9azDK6nwSZa",
        "outputId": "0c47e5ff-7d54-48d5-b384-3c9e657b581c"
      },
      "execution_count": null,
      "outputs": [
        {
          "output_type": "stream",
          "name": "stdout",
          "text": [
            "[ 7.24 16.41 17.04 20.67 20.31  1.49  7.85 15.5 ]\n",
            "[ 7.51  8.29  3.78  0.76 16.22 16.1  18.27 14.14]\n",
            "[21.17 19.31 22.11  3.03 15.85  0.13 14.85 14.66]\n"
          ]
        }
      ]
    },
    {
      "cell_type": "code",
      "source": [
        "# Standardization \n",
        "\n",
        "#Calculate the mean and variance of feature x1\n",
        "mean_x1 = np.mean(features[:, 0])\n",
        "var_x1 = np.var(features[:, 0])\n",
        "\n",
        "\n",
        "#Calculate the mean and variance of feature x2\n",
        "mean_x2 = np.mean(features[:, 1])\n",
        "var_x2 = np.var(features[:, 1])\n",
        "\n",
        "#Calculate the mean and variance of feature x3\n",
        "mean_x3 = np.mean(features[:, 2])\n",
        "var_x3 = np.var(features[:, 2])\n",
        "\n",
        "\n",
        "print(\"Mean of feature x1: \", mean_x1)\n",
        "print(\"Variance of feature x1: \", var_x1)\n",
        "print(\"\\n\")\n",
        "print(\"Mean of feature x2: \", mean_x2)\n",
        "print(\"Variance of feature x2: \", var_x2)\n",
        "print(\"\\n\")\n",
        "print(\"Mean of feature x3: \", mean_x3)\n",
        "print(\"Variance of feature x3: \", var_x3)\n"
      ],
      "metadata": {
        "colab": {
          "base_uri": "https://localhost:8080/"
        },
        "id": "t5g_JqBJwSgQ",
        "outputId": "ff6506ff-7606-43ac-caef-436875df3a9f"
      },
      "execution_count": null,
      "outputs": [
        {
          "output_type": "stream",
          "name": "stdout",
          "text": [
            "Mean of feature x1:  13.313749999999999\n",
            "Variance of feature x1:  42.2321734375\n",
            "\n",
            "\n",
            "Mean of feature x2:  10.63375\n",
            "Variance of feature x2:  36.4259984375\n",
            "\n",
            "\n",
            "Mean of feature x3:  13.88875\n",
            "Variance of feature x3:  57.8220609375\n"
          ]
        }
      ]
    },
    {
      "cell_type": "code",
      "source": [
        "# Standardize the given features\n",
        "\n",
        "stand_features = features.copy()\n",
        "stand_features[:, 0] = (features[:, 0].copy() - mean_x1) / np.sqrt(var_x1)\n",
        "\n",
        "stand_features[:, 1] = (features[:, 1].copy() - mean_x2) / np.sqrt(var_x2)\n",
        "\n",
        "stand_features[:, 2] = (features[:, 2].copy() - mean_x3) / np.sqrt(var_x3)\n",
        "\n",
        "print(stand_features)\n"
      ],
      "metadata": {
        "colab": {
          "base_uri": "https://localhost:8080/"
        },
        "id": "IUHeUH96wSly",
        "outputId": "7f387c2d-25ea-4799-9b83-d6cf4d427b3b"
      },
      "execution_count": null,
      "outputs": [
        {
          "output_type": "stream",
          "name": "stdout",
          "text": [
            "[[-0.93462027 -0.51757172  0.95754493]\n",
            " [ 0.47644668 -0.38833412  0.71293946]\n",
            " [ 0.57339021 -1.13559253  1.08116274]\n",
            " [ 1.1319696  -1.63597399 -1.42801593]\n",
            " [ 1.0765733   0.92558144  0.25792068]\n",
            " [-1.81942234  0.90569873 -1.80939004]\n",
            " [-0.84075431  1.26524435  0.12641237]\n",
            " [ 0.33641713  0.58094785  0.10142579]]\n"
          ]
        }
      ]
    },
    {
      "cell_type": "code",
      "source": [
        "# Standardize the features of X\n",
        "stand_X = X.copy()\n",
        "stand_X[:, 0] = (X[:, 0].copy() - mean_x1) / np.sqrt(var_x1)\n",
        "stand_X[:, 1] = (X[:, 1].copy() - mean_x2) / np.sqrt(var_x2)\n",
        "stand_X[:, 2] = (X[:, 2].copy() - mean_x3) / np.sqrt(var_x3)\n",
        "\n",
        "print(stand_X)"
      ],
      "metadata": {
        "colab": {
          "base_uri": "https://localhost:8080/"
        },
        "id": "4VCXGm12wh76",
        "outputId": "a52aeab5-3b88-4368-9b54-6a8c0db56848"
      },
      "execution_count": null,
      "outputs": [
        {
          "output_type": "stream",
          "name": "stdout",
          "text": [
            "[[ 0.24716753  0.055713   -0.67184311]]\n"
          ]
        }
      ]
    },
    {
      "cell_type": "code",
      "source": [
        "# Normalize the given features\n",
        "\n",
        "normal_features = features.copy()\n",
        "normal_features[:, 0] = (features[:, 0].copy() - min(features[:, 0].copy())) / (max(features[:, 0].copy())-min(features[:, 0].copy()))\n",
        "\n",
        "normal_features[:, 1] = (features[:, 1].copy() - min(features[:, 1].copy())) / (max(features[:, 1].copy())-min(features[:, 1].copy()))\n",
        "\n",
        "normal_features[:, 2] = (features[:, 2].copy() - min(features[:, 2].copy())) / (max(features[:, 2].copy())-min(features[:, 2].copy()))\n",
        "\n",
        "print(normal_features)\n"
      ],
      "metadata": {
        "colab": {
          "base_uri": "https://localhost:8080/"
        },
        "id": "ZuGGTFaVwh-3",
        "outputId": "ab79eef2-86df-4d10-8f1d-e89eeea2b49e"
      },
      "execution_count": null,
      "outputs": [
        {
          "output_type": "stream",
          "name": "stdout",
          "text": [
            "[[0.29979145 0.385494   0.95723385]\n",
            " [0.77789364 0.43003998 0.87261146]\n",
            " [0.81074035 0.17247287 1.        ]\n",
            " [1.         0.         0.13193813]\n",
            " [0.98123045 0.88292404 0.71519563]\n",
            " [0.         0.87607082 0.        ]\n",
            " [0.33159541 1.         0.66969973]\n",
            " [0.73044838 0.76413478 0.66105551]]\n"
          ]
        }
      ]
    },
    {
      "cell_type": "code",
      "source": [
        "# Normalize the features of X\n",
        "normal_X = X.copy()\n",
        "normal_X[:, 0] = (X[:, 0].copy() - min(features[:, 0].copy())) / (max(features[:, 0].copy())-min(features[:, 0].copy()))\n",
        "normal_X[:, 1] = (X[:, 1].copy() - min(features[:, 1].copy())) / (max(features[:, 1].copy())-min(features[:, 1].copy()))\n",
        "normal_X[:, 2] =(X[:, 2].copy() - min(features[:, 2].copy())) / (max(features[:, 2].copy())-min(features[:, 2].copy()))\n",
        "print(normal_X)"
      ],
      "metadata": {
        "colab": {
          "base_uri": "https://localhost:8080/"
        },
        "id": "gd0u3aJEwiC0",
        "outputId": "dd7e0fe2-7a0e-4b48-d601-bf2939154115"
      },
      "execution_count": null,
      "outputs": [
        {
          "output_type": "stream",
          "name": "stdout",
          "text": [
            "[[0.70020855 0.58309537 0.39353958]]\n"
          ]
        }
      ]
    },
    {
      "cell_type": "code",
      "source": [
        "# Calculate the features distance from 𝑋 to the data samples\n",
        "d1 = stand_X.copy() - stand_features.copy() \n",
        "d2 = np.sqrt((d1[:, 0].copy()) ** 2  + (d1[:, 1].copy()) ** 2 +(d1[:, 2].copy()) ** 2)\n",
        "\n",
        "print(d1)\n",
        "print(d2)"
      ],
      "metadata": {
        "colab": {
          "base_uri": "https://localhost:8080/"
        },
        "id": "_XcKiIewwiF3",
        "outputId": "9737045f-aa5b-4cb5-93f4-383dffd81237"
      },
      "execution_count": null,
      "outputs": [
        {
          "output_type": "stream",
          "name": "stdout",
          "text": [
            "[[ 1.1817878   0.57328472 -1.62938803]\n",
            " [-0.22927914  0.44404712 -1.38478257]\n",
            " [-0.32622268  1.19130553 -1.75300585]\n",
            " [-0.88480207  1.69168699  0.75617282]\n",
            " [-0.82940576 -0.86986843 -0.92976379]\n",
            " [ 2.06658987 -0.84998573  1.13754693]\n",
            " [ 1.08792185 -1.20953135 -0.79825548]\n",
            " [-0.0892496  -0.52523484 -0.7732689 ]]\n",
            "[2.09288871 1.47219888 2.14444856 2.05340617 1.51955445 2.5074454\n",
            " 1.81211253 0.93903244]\n"
          ]
        }
      ]
    },
    {
      "cell_type": "code",
      "source": [
        "# Calculate the features distance from 𝑋 to the data samples\n",
        "d1 = normal_X.copy() - normal_features.copy() \n",
        "d2 = np.sqrt((d1[:, 0].copy()) ** 2  + (d1[:, 1].copy()) ** 2 +(d1[:, 2].copy()) ** 2)\n",
        "\n",
        "print(d1)\n",
        "print(d2)"
      ],
      "metadata": {
        "colab": {
          "base_uri": "https://localhost:8080/"
        },
        "id": "SJqaOkL-wiJV",
        "outputId": "6e152d4a-718e-4620-fc66-c16fca61f035"
      },
      "execution_count": null,
      "outputs": [
        {
          "output_type": "stream",
          "name": "stdout",
          "text": [
            "[[ 0.4004171   0.19760137 -0.56369427]\n",
            " [-0.07768509  0.1530554  -0.47907188]\n",
            " [-0.1105318   0.4106225  -0.60646042]\n",
            " [-0.29979145  0.58309537  0.26160146]\n",
            " [-0.2810219  -0.29982867 -0.32165605]\n",
            " [ 0.70020855 -0.29297544  0.39353958]\n",
            " [ 0.36861314 -0.41690463 -0.27616015]\n",
            " [-0.03023983 -0.18103941 -0.26751592]]\n",
            "[0.71911848 0.50889173 0.74069046 0.70591108 0.52185549 0.8549854\n",
            " 0.62124837 0.32442947]\n"
          ]
        }
      ]
    },
    {
      "cell_type": "code",
      "source": [
        "\n",
        "def def_standard(featuress):\n",
        "    \"\"\"Function compute standardlize \"\"\"\n",
        "    std_features = featuress.copy()\n",
        "    for i in range(featuress.shape[1]):\n",
        "      #Compute mean and var of each column\n",
        "      mean_x = np.mean(features[:,i].copy())\n",
        "      var_x = np.var(features[:,i].copy())\n",
        "\n",
        "      #Compute standardize of each column\n",
        "      std_features[:,i] = (featuress[:,i].copy() - mean_x)/ np.sqrt(var_x)\n",
        "    return std_features"
      ],
      "metadata": {
        "id": "oVk1A4dBcjBh"
      },
      "execution_count": null,
      "outputs": []
    },
    {
      "cell_type": "code",
      "source": [
        "\n",
        "def def_normal(featuress):\n",
        "    \"\"\"Function compute normalize \"\"\"\n",
        "    nor_features = featuress.copy()\n",
        "    for i in range(featuress.shape[1]):\n",
        "      #Find max and min of each column\n",
        "      max_val = max(features[:,i].copy())\n",
        "      min_val = min(features[:,i].copy())\n",
        "\n",
        "      #Compute normalize of each column\n",
        "      nor_features[:,i] = (featuress[:,i].copy() - min_val)/(max_val - min_val)\n",
        "    return nor_features"
      ],
      "metadata": {
        "id": "u2O2h79ec6T3"
      },
      "execution_count": null,
      "outputs": []
    },
    {
      "cell_type": "code",
      "source": [
        "#Compute Standardize features and X\n",
        "std = def_standard(features)\n",
        "std_X = def_standard(X)\n",
        "print(\"Standardize features:\")\n",
        "print(std)\n",
        "\n",
        "print(f\"\\nStandardization of X = {std_X}\")\n",
        "\n",
        "#Compute Normalize features and X\n",
        "nor = def_normal(features)\n",
        "norX = def_normal(X)\n",
        "print(\"\\nNormalize features:\")\n",
        "print(nor)\n",
        "\n",
        "print(f\"\\nNormalization of X = {norX}\")"
      ],
      "metadata": {
        "colab": {
          "base_uri": "https://localhost:8080/"
        },
        "id": "lrvA9fuTdGBe",
        "outputId": "2acf1e9e-8f35-4977-954a-a107ce18b652"
      },
      "execution_count": null,
      "outputs": [
        {
          "output_type": "stream",
          "name": "stdout",
          "text": [
            "Standardize features:\n",
            "[[-0.93462027 -0.51757172  0.95754493]\n",
            " [ 0.47644668 -0.38833412  0.71293946]\n",
            " [ 0.57339021 -1.13559253  1.08116274]\n",
            " [ 1.1319696  -1.63597399 -1.42801593]\n",
            " [ 1.0765733   0.92558144  0.25792068]\n",
            " [-1.81942234  0.90569873 -1.80939004]\n",
            " [-0.84075431  1.26524435  0.12641237]\n",
            " [ 0.33641713  0.58094785  0.10142579]]\n",
            "\n",
            "Standardization of X = [[ 0.24716753  0.055713   -0.67184311]]\n",
            "\n",
            "Normalize features:\n",
            "[[0.29979145 0.385494   0.95723385]\n",
            " [0.77789364 0.43003998 0.87261146]\n",
            " [0.81074035 0.17247287 1.        ]\n",
            " [1.         0.         0.13193813]\n",
            " [0.98123045 0.88292404 0.71519563]\n",
            " [0.         0.87607082 0.        ]\n",
            " [0.33159541 1.         0.66969973]\n",
            " [0.73044838 0.76413478 0.66105551]]\n",
            "\n",
            "Normalization of X = [[0.70020855 0.58309537 0.39353958]]\n"
          ]
        }
      ]
    },
    {
      "cell_type": "code",
      "source": [
        "#Distance of standardize features\n",
        "d1_stand = std - std_X\n",
        "d2_stand = np.sqrt((d1_stand[:, 0].copy()) ** 2  + (d1_stand[:, 1].copy()) ** 2 + (d1_stand[:, 2].copy()) ** 2)\n",
        "print(\"Standardized distances:\")\n",
        "print(d2_stand)\n",
        "\n",
        "#Distance by normalize\n",
        "d1_nor = nor - norX\n",
        "d2_nor = np.sqrt((d1_nor[:, 0].copy()) ** 2  + (d1_nor[:, 1].copy()) ** 2 + (d1_nor[:, 2].copy()) ** 2)\n",
        "print(\"Normalized distances:\")\n",
        "print(d2_nor)"
      ],
      "metadata": {
        "colab": {
          "base_uri": "https://localhost:8080/"
        },
        "id": "jbSGsTMFdX3k",
        "outputId": "06ee291e-c1b7-431f-93c9-811ab4b33f96"
      },
      "execution_count": null,
      "outputs": [
        {
          "output_type": "stream",
          "name": "stdout",
          "text": [
            "Standardized distances:\n",
            "[2.09288871 1.47219888 2.14444856 2.05340617 1.51955445 2.5074454\n",
            " 1.81211253 0.93903244]\n",
            "Normalized distances:\n",
            "[0.71911848 0.50889173 0.74069046 0.70591108 0.52185549 0.8549854\n",
            " 0.62124837 0.32442947]\n"
          ]
        }
      ]
    },
    {
      "cell_type": "code",
      "source": [
        "def my_knn(featuress, labels, k = 3, scaling_method = \"Standardization\"):\n",
        "    ans = featuress[:-1,:].copy()\n",
        "    \"\"\"This function compute minimum distance and return label corresponding to smaller labels set\"\"\"\n",
        "    key = featuress[-1:,:].copy()\n",
        "    if scaling_method == \"Standardization\":\n",
        "        X_scale = def_standard(key)\n",
        "        feat_scale = def_standard(ans)\n",
        "    if scaling_method == \"Normalization\":\n",
        "        X_scale = def_normal(key)\n",
        "        feat_scale = def_normal(ans)\n",
        "    #else:\n",
        "     # print(\"Scaling method is invalid\")\n",
        "     # return -1\n",
        "    \n",
        "    #Compute distance of X with each feature\n",
        "    diff = feat_scale - X_scale\n",
        "    diff_whole = np.sqrt((diff[:, 0].copy()) ** 2  + (diff[:, 1].copy()) ** 2 + (diff[:, 2].copy()) ** 2)\n",
        "    #print(diff_whole)\n",
        "\n",
        "    #Find the kth smallest distance\n",
        "    min_d = diff_whole.argsort()[:k]\n",
        "    #Classify labels\n",
        "    classify = labels[min_d]\n",
        "    #print(classify)\n",
        "    #print(f\"Features with X = {key_X}, scaling method = {scaling_method} and K = {k}:\")\n",
        "    #print(f\"X has labels = {classify[:,0]}, belongs to Label {st.mode(classify[:,0])}\\n\")\n",
        "    # Find the mode label\n",
        "    print(\"Conclusion: X belongs to Label \", st.mode(classify[:,0]))\n",
        "    return st.mode(classify[:,0])"
      ],
      "metadata": {
        "id": "Mh5F01ZXxb1m"
      },
      "execution_count": null,
      "outputs": []
    },
    {
      "cell_type": "code",
      "source": [
        "def choose(featuress, X):\n",
        "    return np.concatenate((featuress.copy(), X.copy()), axis = 0)"
      ],
      "metadata": {
        "id": "qyVEXMsnxinW"
      },
      "execution_count": null,
      "outputs": []
    },
    {
      "cell_type": "code",
      "source": [
        "whole_features = choose(features,X)\n",
        "\n",
        "knn_std = my_knn(whole_features, labels, k = 3, scaling_method = \"Standardization\")\n",
        "knn_nor = my_knn(whole_features, labels, k = 3, scaling_method = \"Normalization\")\n",
        "\n",
        "\n"
      ],
      "metadata": {
        "colab": {
          "base_uri": "https://localhost:8080/"
        },
        "id": "zuo2P27Exisa",
        "outputId": "a6d331e7-a0ae-44ba-eb28-0131e5358c23"
      },
      "execution_count": null,
      "outputs": [
        {
          "output_type": "stream",
          "name": "stdout",
          "text": [
            "Conclusion: X belongs to Label  2\n",
            "Conclusion: X belongs to Label  2\n"
          ]
        }
      ]
    }
  ]
}