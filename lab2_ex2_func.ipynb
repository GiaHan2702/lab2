{
  "nbformat": 4,
  "nbformat_minor": 0,
  "metadata": {
    "colab": {
      "provenance": [],
      "authorship_tag": "ABX9TyNVee3Oc/jG9sl9hrnOc8OI",
      "include_colab_link": true
    },
    "kernelspec": {
      "name": "python3",
      "display_name": "Python 3"
    },
    "language_info": {
      "name": "python"
    }
  },
  "cells": [
    {
      "cell_type": "markdown",
      "metadata": {
        "id": "view-in-github",
        "colab_type": "text"
      },
      "source": [
        "<a href=\"https://colab.research.google.com/github/GiaHan2702/lab2/blob/main/lab2_ex2_func.ipynb\" target=\"_parent\"><img src=\"https://colab.research.google.com/assets/colab-badge.svg\" alt=\"Open In Colab\"/></a>"
      ]
    },
    {
      "cell_type": "code",
      "source": [
        "import numpy as np\n",
        "import statistics as st"
      ],
      "metadata": {
        "id": "dvEVO-Nv8mEe"
      },
      "execution_count": null,
      "outputs": []
    },
    {
      "cell_type": "code",
      "source": [
        "features_set= np.array([[4.9,     3], \n",
        "                    [4.7, 3.2], \n",
        "                    [4.6, 3.1], \n",
        "                    [5,  3.6], \n",
        "                    [5.4, 3.9],\n",
        "                    [4.6, 3.4], \n",
        "                    [6.4, 3.2], \n",
        "                    [6.9,  3.1], \n",
        "                    [5.5, 2.3],  \n",
        "                    [6.5, 2.8],         \n",
        "                    [5.7, 2.8], \n",
        "                    [6.3, 3.3], \n",
        "                    [5.6,  2.2], \n",
        "                    [5.1, 1.5],\n",
        "                    [5.6, 1.4], \n",
        "                    [5.9, 2.1], \n",
        "                    [5.3,  1.8],   \n",
        "                    [5.7, 1.9]\n",
        "                     ])\n",
        "x0l=np.array([4.9, 4.7, 4.6, 5, 5.4,4.6])\n",
        "x1l=np.array([6.4, 6.9, 5.5, 6.5, 5.7, 6.3])\n",
        "x2l=np.array([5.6, 5.1, 5.6, 5.9, 5.3, 5.7])\n",
        "\n",
        "x0w=np.array([3, 3.2, 3.1, 3.6, 3.9, 3.4])\n",
        "x1w=np.array([3.2, 3.1, 2.3, 2.8, 2.8, 3.3])\n",
        "x2w=np.array([2.2, 1.5, 1.4, 2.1, 1.8, 1.9])\n",
        "\n",
        "labels_set = np.array([[0],\n",
        "                   [0],\n",
        "                   [0],\n",
        "                   [0],\n",
        "                   [0],\n",
        "                   [0],\n",
        "                   [1],\n",
        "                   [1],\n",
        "                   [1],\n",
        "                   [1],\n",
        "                   [1],\n",
        "                   [1],\n",
        "                   [2],\n",
        "                   [2],\n",
        "                   [2],\n",
        "                   [2],\n",
        "                   [2],\n",
        "                   [2],\n",
        "                   ])\n",
        "\n",
        "X_feature = np.array([[5.2, 2.4]])\n",
        "\n",
        "print(features_set)\n",
        "print(labels_set)\n",
        "print(x0l)\n",
        "print(X_feature)"
      ],
      "metadata": {
        "colab": {
          "base_uri": "https://localhost:8080/"
        },
        "id": "4fMDV6FN8m5_",
        "outputId": "afb3d748-8853-4423-9614-229fd421f8f6"
      },
      "execution_count": null,
      "outputs": [
        {
          "output_type": "stream",
          "name": "stdout",
          "text": [
            "[[4.9 3. ]\n",
            " [4.7 3.2]\n",
            " [4.6 3.1]\n",
            " [5.  3.6]\n",
            " [5.4 3.9]\n",
            " [4.6 3.4]\n",
            " [6.4 3.2]\n",
            " [6.9 3.1]\n",
            " [5.5 2.3]\n",
            " [6.5 2.8]\n",
            " [5.7 2.8]\n",
            " [6.3 3.3]\n",
            " [5.6 2.2]\n",
            " [5.1 1.5]\n",
            " [5.6 1.4]\n",
            " [5.9 2.1]\n",
            " [5.3 1.8]\n",
            " [5.7 1.9]]\n",
            "[[0]\n",
            " [0]\n",
            " [0]\n",
            " [0]\n",
            " [0]\n",
            " [0]\n",
            " [1]\n",
            " [1]\n",
            " [1]\n",
            " [1]\n",
            " [1]\n",
            " [1]\n",
            " [2]\n",
            " [2]\n",
            " [2]\n",
            " [2]\n",
            " [2]\n",
            " [2]]\n",
            "[4.9 4.7 4.6 5.  5.4 4.6]\n",
            "[[5.2 2.4]]\n"
          ]
        }
      ]
    },
    {
      "cell_type": "code",
      "source": [
        "print(x0l)\n",
        "print(x1l)\n",
        "print(x2l)\n",
        "print(x0w)\n",
        "print(x1w)\n",
        "print(x2w)"
      ],
      "metadata": {
        "colab": {
          "base_uri": "https://localhost:8080/"
        },
        "id": "kK9jEm9O8m80",
        "outputId": "cb80621f-52ae-4267-8386-4f781969f9c6"
      },
      "execution_count": null,
      "outputs": [
        {
          "output_type": "stream",
          "name": "stdout",
          "text": [
            "[4.9 4.7 4.6 5.  5.4 4.6]\n",
            "[6.4 6.9 5.5 6.5 5.7 6.3]\n",
            "[5.6 5.1 5.6 5.9 5.3 5.7]\n",
            "[3.  3.2 3.1 3.6 3.9 3.4]\n",
            "[3.2 3.1 2.3 2.8 2.8 3.3]\n",
            "[2.2 1.5 1.4 2.1 1.8 1.9]\n"
          ]
        }
      ]
    },
    {
      "cell_type": "code",
      "source": [
        "#Calculate the mean length 0\n",
        "mean_l0 = np.mean(x0l)\n",
        "\n",
        "#Calculate the mean length 1\n",
        "mean_l1 = np.mean(x1l)\n",
        "\n",
        "#Calculate the mean length x2\n",
        "mean_l2 = np.mean(x2l)\n",
        "\n",
        "#Calculate the mean width 0\n",
        "mean_w0 = np.mean(x0w)\n",
        "\n",
        "#Calculate the mean width 1\n",
        "mean_w1 = np.mean(x1w)\n",
        "\n",
        "#Calculate the mean width x2\n",
        "mean_w2 = np.mean(x2w)\n",
        "\n",
        "#length\n",
        "print(\"Mean of length x0: \", mean_l0)\n",
        "print(\"\\n\")\n",
        "print(\"Mean of length x1: \", mean_l1)\n",
        "print(\"\\n\")\n",
        "print(\"Mean of length x2: \", mean_l2)\n",
        "print(\"\\n\")\n",
        "#width\n",
        "print(\"Mean of width x0: \", mean_w0)\n",
        "print(\"\\n\")\n",
        "print(\"Mean of width x1: \", mean_w1)\n",
        "print(\"\\n\")\n",
        "print(\"Mean of width x2: \", mean_w2)\n",
        "print(\"\\n\")\n"
      ],
      "metadata": {
        "colab": {
          "base_uri": "https://localhost:8080/"
        },
        "id": "7i9eDN9K8nKa",
        "outputId": "0bd170cb-74a3-4a8f-d108-8b72b6bf228d"
      },
      "execution_count": null,
      "outputs": [
        {
          "output_type": "stream",
          "name": "stdout",
          "text": [
            "Mean of length x0:  4.866666666666667\n",
            "\n",
            "\n",
            "Mean of length x1:  6.216666666666666\n",
            "\n",
            "\n",
            "Mean of length x2:  5.533333333333332\n",
            "\n",
            "\n",
            "Mean of width x0:  3.3666666666666667\n",
            "\n",
            "\n",
            "Mean of width x1:  2.9166666666666674\n",
            "\n",
            "\n",
            "Mean of width x2:  1.8166666666666667\n",
            "\n",
            "\n"
          ]
        }
      ]
    },
    {
      "cell_type": "code",
      "source": [
        "def def_mean(features):\n",
        "  sum = 0\n",
        "  for i in range(len(features)):\n",
        "    sum = sum + features[i]\n",
        "  return sum/len(features)"
      ],
      "metadata": {
        "id": "0sN4fz_FmC-i"
      },
      "execution_count": null,
      "outputs": []
    },
    {
      "cell_type": "code",
      "source": [
        "\n",
        "def def_euclidean(a, b):\n",
        "  \"\"\"This function compute euclidean distance\"\"\"\n",
        "  diff = a - b\n",
        "  diff_whole = np.sqrt((diff[:, 0].copy()) ** 2  + (diff[:, 1].copy()) ** 2)\n",
        "  return diff_whole\n",
        "def def_manhattan(a, b):\n",
        "  \"\"\"This function compute manhattan distance\"\"\"\n",
        "  diff = a - b\n",
        "  diff_whole = np.abs(diff[:, 0].copy())   + np.abs(diff[:, 1].copy())\n",
        "  return diff_whole"
      ],
      "metadata": {
        "id": "p9VlzHb1mDFf"
      },
      "execution_count": null,
      "outputs": []
    },
    {
      "cell_type": "code",
      "source": [
        "#smallest distance classifier using Euclidean distance\n",
        "eucli_dis = def_euclidean(features_set.copy(), X_feature.copy())\n",
        "#smallest distance classifier using Manhattan  distance\n",
        "manhat_dis = def_manhattan(features_set.copy(), X_feature.copy())\n",
        "\n",
        "print(\"Euclidean distance\")\n",
        "print(eucli_dis)\n",
        "\n",
        "print(\"Manhattan distance\")\n",
        "print(manhat_dis)"
      ],
      "metadata": {
        "colab": {
          "base_uri": "https://localhost:8080/"
        },
        "id": "KTrYvhtKmDJj",
        "outputId": "1113a22b-efa2-4f14-9e1d-6b4a7524afc9"
      },
      "execution_count": null,
      "outputs": [
        {
          "output_type": "stream",
          "name": "stdout",
          "text": [
            "Euclidean distance\n",
            "[0.67082039 0.94339811 0.92195445 1.21655251 1.5132746  1.16619038\n",
            " 1.44222051 1.83847763 0.31622777 1.36014705 0.64031242 1.42126704\n",
            " 0.4472136  0.90553851 1.07703296 0.76157731 0.60827625 0.70710678]\n",
            "Manhattan distance\n",
            "[0.9 1.3 1.3 1.4 1.7 1.6 2.  2.4 0.4 1.7 0.9 2.  0.6 1.  1.4 1.  0.7 1. ]\n"
          ]
        }
      ]
    },
    {
      "cell_type": "code",
      "source": [
        "def concat_features(features, X_key):\n",
        "    \"\"\"Concatenate array X into array features\"\"\"\n",
        "    return np.concatenate((features.copy(), X_key.copy()), axis = 0)"
      ],
      "metadata": {
        "id": "qJPsv6BumIiv"
      },
      "execution_count": null,
      "outputs": []
    },
    {
      "cell_type": "code",
      "source": [
        "#Find mean of features set\n",
        "features_mean_0 = def_mean(features_set[:6,:])\n",
        "features_mean_1 = def_mean(features_set[6:12,:])\n",
        "features_mean_2 = def_mean(features_set[12:18,:])\n",
        "\n",
        "features_mean = concat_features(features_mean_0,features_mean_1)\n",
        "features_mean = concat_features(features_mean,features_mean_2)\n",
        "features_mean = np.reshape(features_mean, (3,2))\n",
        "print(\"Mean of the features:\")\n",
        "print(features_mean)\n",
        "\n",
        "smallest_dis = def_euclidean(features_mean, X_feature)\n",
        "print(\"Smallest distance of features:\")\n",
        "print(smallest_dis)\n"
      ],
      "metadata": {
        "colab": {
          "base_uri": "https://localhost:8080/"
        },
        "id": "lqb0ZRpHmInz",
        "outputId": "de566c05-633e-4b5a-f4c8-1086a23e15b6"
      },
      "execution_count": null,
      "outputs": [
        {
          "output_type": "stream",
          "name": "stdout",
          "text": [
            "Mean of the features:\n",
            "[[4.86666667 3.36666667]\n",
            " [6.21666667 2.91666667]\n",
            " [5.53333333 1.81666667]]\n",
            "Smallest distance of features:\n",
            "[1.02252411 1.14041903 0.67185481]\n"
          ]
        }
      ]
    },
    {
      "cell_type": "code",
      "source": [
        "def my_sdc(features, labels, distance_type = \"Euclidean distance\"):\n",
        "    \"\"\"This function compute smallest dist\"\"\"\n",
        "    feat = features[:-1,:].copy()\n",
        "    key_X = features[-1:,:].copy()\n",
        "    mean_0 = def_mean(feat[:6,:])\n",
        "    mean_1 = def_mean(feat[6:12,:])\n",
        "    mean_2 = def_mean(feat[12:18,:])\n",
        "\n",
        "    mean_01 = concat_features(mean_0,mean_1)\n",
        "    mean_012 = concat_features(mean_01,mean_2)\n",
        "    mean = np.reshape(mean_012, (3,2))\n",
        "    #print(mean)\n",
        "    if distance_type == \"Euclidean distance\":\n",
        "        result = def_euclidean(mean, key_X)\n",
        "    elif distance_type == \"Manhattan distance\":\n",
        "        result = def_manhattan(mean, key_X)\n",
        "    else:\n",
        "        print(\"Invalid distance_type\")\n",
        "        return -1\n",
        "    #print(result)\n",
        "    min_d = result.argsort()[0]\n",
        "    #print(min_d)\n",
        "      # Find the mode label\n",
        "    classify = min_d\n",
        "    print(\"Conclusion: X belongs to Label \", min_d)\n",
        "    return classify\n",
        "    "
      ],
      "metadata": {
        "id": "hksdnjhhm0Hu"
      },
      "execution_count": null,
      "outputs": []
    },
    {
      "cell_type": "code",
      "source": [
        "features_new = concat_features(features_set, X_feature)\n",
        "\n",
        "class_euclidean = my_sdc(features_new, labels_set, distance_type = \"Euclidean distance\")\n",
        "class_manhattan = my_sdc(features_new, labels_set, distance_type = \"Manhattan distance\")"
      ],
      "metadata": {
        "id": "qj6bDa73m3oa",
        "outputId": "49f098fe-f46c-4777-94c1-6098c2659777",
        "colab": {
          "base_uri": "https://localhost:8080/"
        }
      },
      "execution_count": null,
      "outputs": [
        {
          "output_type": "stream",
          "name": "stdout",
          "text": [
            "Conclusion: X belongs to Label  2\n",
            "Conclusion: X belongs to Label  2\n"
          ]
        }
      ]
    }
  ]
}