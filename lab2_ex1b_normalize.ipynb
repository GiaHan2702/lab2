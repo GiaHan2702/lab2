{
  "nbformat": 4,
  "nbformat_minor": 0,
  "metadata": {
    "colab": {
      "provenance": [],
      "authorship_tag": "ABX9TyNvUGH1Ux07w2H7tT+bCaNZ",
      "include_colab_link": true
    },
    "kernelspec": {
      "name": "python3",
      "display_name": "Python 3"
    },
    "language_info": {
      "name": "python"
    }
  },
  "cells": [
    {
      "cell_type": "markdown",
      "metadata": {
        "id": "view-in-github",
        "colab_type": "text"
      },
      "source": [
        "<a href=\"https://colab.research.google.com/github/GiaHan2702/lab2/blob/main/lab2_ex1b_normalize.ipynb\" target=\"_parent\"><img src=\"https://colab.research.google.com/assets/colab-badge.svg\" alt=\"Open In Colab\"/></a>"
      ]
    },
    {
      "cell_type": "code",
      "execution_count": 1,
      "metadata": {
        "colab": {
          "base_uri": "https://localhost:8080/"
        },
        "id": "tTvv36CnzOci",
        "outputId": "eaad7adf-86bd-47e0-8140-96f69a45d0a5"
      },
      "outputs": [
        {
          "output_type": "stream",
          "name": "stdout",
          "text": [
            "[[ 7.24  7.51 21.17]\n",
            " [16.41  8.29 19.31]\n",
            " [17.04  3.78 22.11]\n",
            " [20.67  0.76  3.03]\n",
            " [20.31 16.22 15.85]\n",
            " [ 1.49 16.1   0.13]\n",
            " [ 7.85 18.27 14.85]\n",
            " [15.5  14.14 14.66]]\n",
            "[[1]\n",
            " [1]\n",
            " [1]\n",
            " [1]\n",
            " [2]\n",
            " [2]\n",
            " [2]\n",
            " [2]]\n",
            "[[ 7.24  7.51 21.17]\n",
            " [16.41  8.29 19.31]\n",
            " [17.04  3.78 22.11]\n",
            " [20.67  0.76  3.03]\n",
            " [20.31 16.22 15.85]\n",
            " [ 1.49 16.1   0.13]\n",
            " [ 7.85 18.27 14.85]\n",
            " [15.5  14.14 14.66]]\n",
            "[[1]\n",
            " [1]\n",
            " [1]\n",
            " [1]\n",
            " [2]\n",
            " [2]\n",
            " [2]\n",
            " [2]]\n"
          ]
        }
      ],
      "source": [
        "import numpy as np\n",
        "import statistics as st\n",
        "features = np.array([[7.24, 7.51, 21.17], \n",
        "                    [16.41, 8.29, 19.31], \n",
        "                    [17.04, 3.78, 22.11], \n",
        "                    [20.67, 0.76, 3.03], \n",
        "                    [20.31, 16.22, 15.85], \n",
        "                    [1.49, 16.1, 0.13],\n",
        "                    [7.85, 18.27, 14.85],\n",
        "                    [15.5, 14.14, 14.66]])\n",
        "\n",
        "labels = np.array([[1],\n",
        "                   [1],\n",
        "                   [1],\n",
        "                   [1],\n",
        "                   [2],\n",
        "                   [2],\n",
        "                   [2],\n",
        "                   [2]])\n",
        "\n",
        "X = np.array([[14.92, 10.97, 8.78]])\n",
        "\n",
        "print(features)\n",
        "print(labels)\n",
        "features = np.array([[7.24, 7.51, 21.17], \n",
        "                    [16.41, 8.29, 19.31], \n",
        "                    [17.04, 3.78, 22.11], \n",
        "                    [20.67, 0.76, 3.03], \n",
        "                    [20.31, 16.22, 15.85], \n",
        "                    [1.49, 16.1, 0.13],\n",
        "                    [7.85, 18.27, 14.85],\n",
        "                    [15.5, 14.14, 14.66]])\n",
        "\n",
        "labels = np.array([[1],\n",
        "                   [1],\n",
        "                   [1],\n",
        "                   [1],\n",
        "                   [2],\n",
        "                   [2],\n",
        "                   [2],\n",
        "                   [2]])\n",
        "\n",
        "X = np.array([[14.92, 10.97, 8.78]])\n",
        "\n",
        "print(features)\n",
        "print(labels)\n"
      ]
    },
    {
      "cell_type": "code",
      "source": [
        "\n",
        "print(features[:,0])\n",
        "\n",
        "print(features[:,1])\n",
        "\n",
        "print(features[:,2])\n"
      ],
      "metadata": {
        "colab": {
          "base_uri": "https://localhost:8080/"
        },
        "id": "7eX0mqh50mkG",
        "outputId": "78fcf39e-60ad-468d-e831-780e66140888"
      },
      "execution_count": 3,
      "outputs": [
        {
          "output_type": "stream",
          "name": "stdout",
          "text": [
            "[ 7.24 16.41 17.04 20.67 20.31  1.49  7.85 15.5 ]\n",
            "[ 7.51  8.29  3.78  0.76 16.22 16.1  18.27 14.14]\n",
            "[21.17 19.31 22.11  3.03 15.85  0.13 14.85 14.66]\n"
          ]
        }
      ]
    },
    {
      "cell_type": "code",
      "source": [
        "# Normalize the given features\n",
        "\n",
        "normal_features = features.copy()\n",
        "normal_features[:, 0] = (features[:, 0].copy() - min(features[:, 0].copy())) / (max(features[:, 0].copy())-min(features[:, 0].copy()))\n",
        "\n",
        "normal_features[:, 1] = (features[:, 1].copy() - min(features[:, 1].copy())) / (max(features[:, 1].copy())-min(features[:, 1].copy()))\n",
        "\n",
        "normal_features[:, 2] = (features[:, 2].copy() - min(features[:, 2].copy())) / (max(features[:, 2].copy())-min(features[:, 2].copy()))\n",
        "\n",
        "print(normal_features)\n"
      ],
      "metadata": {
        "colab": {
          "base_uri": "https://localhost:8080/"
        },
        "id": "8bpXC4DW0oBV",
        "outputId": "b15ef325-c679-4fe2-c890-fe62ef96881d"
      },
      "execution_count": 4,
      "outputs": [
        {
          "output_type": "stream",
          "name": "stdout",
          "text": [
            "[[0.29979145 0.385494   0.95723385]\n",
            " [0.77789364 0.43003998 0.87261146]\n",
            " [0.81074035 0.17247287 1.        ]\n",
            " [1.         0.         0.13193813]\n",
            " [0.98123045 0.88292404 0.71519563]\n",
            " [0.         0.87607082 0.        ]\n",
            " [0.33159541 1.         0.66969973]\n",
            " [0.73044838 0.76413478 0.66105551]]\n"
          ]
        }
      ]
    },
    {
      "cell_type": "code",
      "source": [
        "# Normalize the features of X\n",
        "normal_X = X.copy()\n",
        "normal_X[:, 0] = (X[:, 0].copy() - min(features[:, 0].copy())) / (max(features[:, 0].copy())-min(features[:, 0].copy()))\n",
        "normal_X[:, 1] = (X[:, 1].copy() - min(features[:, 1].copy())) / (max(features[:, 1].copy())-min(features[:, 1].copy()))\n",
        "normal_X[:, 2] =(X[:, 2].copy() - min(features[:, 2].copy())) / (max(features[:, 2].copy())-min(features[:, 2].copy()))\n",
        "print(normal_X)"
      ],
      "metadata": {
        "colab": {
          "base_uri": "https://localhost:8080/"
        },
        "id": "KmL2X7wY0r9P",
        "outputId": "49afa48e-1352-4097-dc8d-9ada4871f238"
      },
      "execution_count": 8,
      "outputs": [
        {
          "output_type": "stream",
          "name": "stdout",
          "text": [
            "[[0.70020855 0.58309537 0.39353958]]\n"
          ]
        }
      ]
    },
    {
      "cell_type": "code",
      "source": [
        "# Calculate the features distance from 𝑋 to the data samples\n",
        "d1 = normal_X.copy() - normal_features.copy() \n",
        "d2 = np.sqrt((d1[:, 0].copy()) ** 2  + (d1[:, 1].copy()) ** 2 +(d1[:, 2].copy()) ** 2)\n",
        "\n",
        "print(d1)\n",
        "print(d2)\n"
      ],
      "metadata": {
        "colab": {
          "base_uri": "https://localhost:8080/"
        },
        "id": "5KoykG454TvH",
        "outputId": "05f162b1-32db-4685-b3ec-0279f49ed394"
      },
      "execution_count": 9,
      "outputs": [
        {
          "output_type": "stream",
          "name": "stdout",
          "text": [
            "[[ 0.4004171   0.19760137 -0.56369427]\n",
            " [-0.07768509  0.1530554  -0.47907188]\n",
            " [-0.1105318   0.4106225  -0.60646042]\n",
            " [-0.29979145  0.58309537  0.26160146]\n",
            " [-0.2810219  -0.29982867 -0.32165605]\n",
            " [ 0.70020855 -0.29297544  0.39353958]\n",
            " [ 0.36861314 -0.41690463 -0.27616015]\n",
            " [-0.03023983 -0.18103941 -0.26751592]]\n",
            "[0.71911848 0.50889173 0.74069046 0.70591108 0.52185549 0.8549854\n",
            " 0.62124837 0.32442947]\n"
          ]
        }
      ]
    },
    {
      "cell_type": "code",
      "source": [
        "# Classification\n",
        "# Choosing k for classification\n",
        "k = 3\n",
        "min_d = d2.argsort()[:k]\n",
        "\n",
        "classify = labels[min_d] #extract the corresponding labels\n",
        "print(classify)\n",
        "\n",
        "# Find the mode label\n",
        "print(\"Conclusion: X belongs to Label \", st.mode(classify[:,0]))"
      ],
      "metadata": {
        "id": "DWCrRIKDEP9q",
        "outputId": "f8ae3073-f5ff-4d73-8bde-96d64999dee5",
        "colab": {
          "base_uri": "https://localhost:8080/"
        }
      },
      "execution_count": 10,
      "outputs": [
        {
          "output_type": "stream",
          "name": "stdout",
          "text": [
            "[[2]\n",
            " [1]\n",
            " [2]]\n",
            "Conclusion: X belongs to Label  2\n"
          ]
        }
      ]
    }
  ]
}